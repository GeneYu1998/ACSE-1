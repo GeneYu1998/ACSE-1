{
 "cells": [
  {
   "cell_type": "markdown",
   "metadata": {
    "slideshow": {
     "slide_type": "slide"
    }
   },
   "source": [
    "# Parallel Python & Dask\n",
    "\n",
    "## James Percival\n",
    "\n",
    "### 29th October 2020 - Version 1.0.1"
   ]
  },
  {
   "cell_type": "markdown",
   "metadata": {
    "slideshow": {
     "slide_type": "slide"
    }
   },
   "source": [
    "- Final lecture of ACSE 1\n",
    "- Not directly assessed here\n",
    "- Will be useful in rest of course\n",
    "- Particularly useful in group projects\n",
    "- Outside reading recommended."
   ]
  },
  {
   "cell_type": "markdown",
   "metadata": {
    "slideshow": {
     "slide_type": "slide"
    }
   },
   "source": [
    "```\n",
    "conda env create -f environment.yml\n",
    "conda activate dask-tutorial\n",
    "jupyter notebook lecture.ipynb\n",
    "```"
   ]
  },
  {
   "cell_type": "markdown",
   "metadata": {
    "slideshow": {
     "slide_type": "slide"
    }
   },
   "source": [
    "## What is Parallel computation?\n",
    "\n",
    "> In the simplest sense, parallel computing is the simultaneous use of multiple compute resources to solve a computational problem:\n",
    ">\n",
    ">    A problem is broken into discrete parts that can be solved concurrently\n",
    "    Each part is further broken down to a series of instructions\n",
    "    Instructions from each part execute simultaneously on different processors\n",
    "    An overall control/coordination mechanism is employed \n",
    "    \n",
    "[_Blaise Barney, Lawrence Livermore National Laboratory_](https://computing.llnl.gov/tutorials/parallel_comp/#Whatis)"
   ]
  },
  {
   "cell_type": "markdown",
   "metadata": {
    "slideshow": {
     "slide_type": "slide"
    }
   },
   "source": [
    "Two ways of playing polyphonic musics\n",
    "\n",
    "- one performer plays many notes - eg. pianist\n",
    "- many performers play one note each - eg. orchestra"
   ]
  },
  {
   "cell_type": "markdown",
   "metadata": {
    "slideshow": {
     "slide_type": "subslide"
    }
   },
   "source": [
    "- One instance of program executing many sections - threads\n",
    "- Many instances of programing executed once each - procesess"
   ]
  },
  {
   "cell_type": "markdown",
   "metadata": {
    "slideshow": {
     "slide_type": "subslide"
    }
   },
   "source": [
    "## Threads\n",
    "\n",
    "- Cheap to create/destroy\n",
    "- Share data through program memory\n",
    "- Needs locks to control shared resources\n",
    "- Limited to one computer\n",
    "- What your web browser does a lot of"
   ]
  },
  {
   "cell_type": "markdown",
   "metadata": {
    "slideshow": {
     "slide_type": "subslide"
    }
   },
   "source": [
    "## Processes\n",
    "\n",
    "- Higher overhead to fork process\n",
    "- Communicate through network or external process\n",
    "- Often have own copies of resources\n",
    "- Can be distributed across multiple machines.\n",
    "- What many HPC programs do a lot of."
   ]
  },
  {
   "cell_type": "markdown",
   "metadata": {
    "slideshow": {
     "slide_type": "slide"
    }
   },
   "source": [
    "## Writing parallel algorithms\n",
    "\n",
    "- Not all problems parallelise (easily).\n",
    "- Simplest ones can be written as\n",
    "  ```\n",
    "  for every X do y\n",
    "  ```\n",
    "- Worst have each step depend nonlinearly on the last (e.g. hash caching)\n",
    "- Will discuss more in ACSE 6"
   ]
  },
  {
   "cell_type": "markdown",
   "metadata": {
    "slideshow": {
     "slide_type": "slide"
    }
   },
   "source": [
    "### syncronous versus asyncronous\n",
    "\n",
    "- When interacting with something external code can:\n",
    "  - Sit and wait (syncronous)\n",
    "  - Come back later (asyncronous)\n",
    "  - `async` and `await` keywords in Python"
   ]
  },
  {
   "cell_type": "code",
   "execution_count": null,
   "metadata": {},
   "outputs": [],
   "source": [
    "import time\n",
    "import asyncio\n",
    "\n",
    "def fun1(n, m):\n",
    "    a = [_**2 for _ in range(m)]\n",
    "    time.sleep(n)\n",
    "    return a"
   ]
  },
  {
   "cell_type": "code",
   "execution_count": null,
   "metadata": {},
   "outputs": [],
   "source": [
    "t1 = time.time()\n",
    "a = fun1(2.0, 1000000)\n",
    "print(time.time()-t1)"
   ]
  },
  {
   "cell_type": "code",
   "execution_count": null,
   "metadata": {
    "slideshow": {
     "slide_type": "subslide"
    }
   },
   "outputs": [],
   "source": [
    "async def _fun2a(n):\n",
    "    t = await asyncio.sleep(n)\n",
    "    return t\n",
    "\n",
    "async def _fun2b(m):\n",
    "    a = [_**2 for _ in range(m)]\n",
    "    return a\n",
    "\n",
    "async def fun2(n, m):\n",
    "    a = await asyncio.gather(_fun2a(n), _fun2b(m))\n",
    "    return a[0]"
   ]
  },
  {
   "cell_type": "code",
   "execution_count": null,
   "metadata": {},
   "outputs": [],
   "source": [
    "t1 = time.time()\n",
    "a = await fun2(2.0, 1000000)\n",
    "print(time.time()-t1)"
   ]
  },
  {
   "cell_type": "markdown",
   "metadata": {
    "slideshow": {
     "slide_type": "subslide"
    }
   },
   "source": [
    "Asyncronous routines are:\n",
    "- Not usually default\n",
    "- Hard to get right\n",
    "- Frequently surprising \n",
    "- Hard to debug\n",
    "- can sometimes massively decrease runtime"
   ]
  },
  {
   "cell_type": "markdown",
   "metadata": {
    "slideshow": {
     "slide_type": "slide"
    }
   },
   "source": [
    "### Lazy evalution\n",
    "\n",
    "- Related to asyncronous computation\n",
    "- Fastest code is code that does not run\n",
    "- Avoid calculating unneeded intermediate values\n",
    "- Opposite standpoint is called \"eager\" evaluation (Python default)"
   ]
  },
  {
   "cell_type": "code",
   "execution_count": null,
   "metadata": {},
   "outputs": [],
   "source": [
    "from functools import total_ordering\n",
    "\n",
    "@total_ordering\n",
    "class Lazy_factorial:\n",
    "    \"\"\"Example of a factorial class with lazy evaluation & caching.\"\"\"\n",
    "    \n",
    "    def __init__(self, n):\n",
    "        \"\"\"Factorial class, returns n factorial when evaluated.\"\"\"\n",
    "        \n",
    "        self._result = None\n",
    "        self.n = n\n",
    "        \n",
    "    def compute(self):\n",
    "        \"\"\"Final evaluation, with cache.\"\"\"\n",
    "        if not self._result:\n",
    "            self._result = self.factorial(self.n)\n",
    "        return self._result\n",
    "    \n",
    "    def factorial(self, n):\n",
    "        \"\"\"Compute factorial with loop.\"\"\"\n",
    "        res = 1\n",
    "        for _ in range(1, n+1):\n",
    "            res *= _\n",
    "        return res\n",
    "    \n",
    "    def __repr__(self):\n",
    "        return f'Lazy_factorial({self.n})'\n",
    "    \n",
    "    def __lt__(self, other):\n",
    "        return self.n < other.n\n",
    "    \n",
    "    def __eq__(self, other):\n",
    "        return self.n == other.n\n",
    "    "
   ]
  },
  {
   "cell_type": "code",
   "execution_count": null,
   "metadata": {},
   "outputs": [],
   "source": [
    "%time a=Lazy_factorial(1)\n",
    "%time b=Lazy_factorial(1000)"
   ]
  },
  {
   "cell_type": "code",
   "execution_count": null,
   "metadata": {},
   "outputs": [],
   "source": [
    "%time a.compute()\n",
    "%time b.compute()\n",
    "%time b.compute()"
   ]
  },
  {
   "cell_type": "code",
   "execution_count": null,
   "metadata": {},
   "outputs": [],
   "source": [
    "%time Lazy_factorial(100)<Lazy_Factorial(300)"
   ]
  },
  {
   "cell_type": "markdown",
   "metadata": {
    "slideshow": {
     "slide_type": "slide"
    }
   },
   "source": [
    "## `threading` module\n",
    "\n",
    "Provides basic, builtin access to uses multiple threads."
   ]
  },
  {
   "cell_type": "code",
   "execution_count": null,
   "metadata": {},
   "outputs": [],
   "source": [
    "import threading\n",
    "import multiprocessing\n",
    "import numpy as np\n",
    "\n",
    "def do_nothing(n):\n",
    "    print(f\"Run {n}.\")\n",
    "    time.sleep(1)"
   ]
  },
  {
   "cell_type": "markdown",
   "metadata": {
    "slideshow": {
     "slide_type": "subslide"
    }
   },
   "source": [
    "Now to actually use it."
   ]
  },
  {
   "cell_type": "code",
   "execution_count": null,
   "metadata": {},
   "outputs": [],
   "source": [
    "%%time\n",
    "for i in range(10):\n",
    "    do_nothing(i)"
   ]
  },
  {
   "cell_type": "code",
   "execution_count": null,
   "metadata": {
    "slideshow": {
     "slide_type": "subslide"
    }
   },
   "outputs": [],
   "source": [
    "%%time\n",
    "threads = []\n",
    "for i in range(10):\n",
    "    threads.append(threading.Thread(target=do_nothing, args=(i,)))\n",
    "    threads[-1].start()\n",
    "for thread in threads:\n",
    "    thread.join()"
   ]
  },
  {
   "cell_type": "markdown",
   "metadata": {
    "slideshow": {
     "slide_type": "subslide"
    }
   },
   "source": [
    "- IO is messed up.\n",
    "- Threads don't wait for each other\n",
    "- Can fix with a lock"
   ]
  },
  {
   "cell_type": "code",
   "execution_count": null,
   "metadata": {},
   "outputs": [],
   "source": [
    "def do_nothing_with_lock(n, lock):\n",
    "    lock.acquire()\n",
    "    print(f\"Run {n}.\")\n",
    "    lock.release()\n",
    "    time.sleep(1)"
   ]
  },
  {
   "cell_type": "code",
   "execution_count": null,
   "metadata": {
    "slideshow": {
     "slide_type": "subslide"
    }
   },
   "outputs": [],
   "source": [
    "%%time\n",
    "threads = []\n",
    "lock = threading.Lock()\n",
    "for i in range(10):\n",
    "    threads.append(threading.Thread(target=do_nothing_with_lock, args=(i, lock)))\n",
    "    threads[-1].start()\n",
    "for thread in threads:\n",
    "    thread.join()"
   ]
  },
  {
   "cell_type": "markdown",
   "metadata": {
    "slideshow": {
     "slide_type": "subslide"
    }
   },
   "source": [
    "Sleep is boring. Lets try `numpy` and regular Python."
   ]
  },
  {
   "cell_type": "code",
   "execution_count": null,
   "metadata": {},
   "outputs": [],
   "source": [
    "def do_something_in_numpy(arr):\n",
    "    arr[:] = np.sin(arr)\n",
    "    \n",
    "def do_something_in_python(n):\n",
    "    print(f\"Run {n}.\")\n",
    "    a = [_**2 for _ in range(1000000)]"
   ]
  },
  {
   "cell_type": "markdown",
   "metadata": {
    "slideshow": {
     "slide_type": "subslide"
    }
   },
   "source": [
    "#### Serial version"
   ]
  },
  {
   "cell_type": "code",
   "execution_count": null,
   "metadata": {},
   "outputs": [],
   "source": [
    "arr0 = np.arange(1000000, dtype=float)\n",
    "arr1 = arr0.copy()\n",
    "%time do_something_in_numpy(arr1)"
   ]
  },
  {
   "cell_type": "code",
   "execution_count": null,
   "metadata": {},
   "outputs": [],
   "source": [
    "arr2 = arr0.copy()"
   ]
  },
  {
   "cell_type": "code",
   "execution_count": null,
   "metadata": {
    "slideshow": {
     "slide_type": "subslide"
    }
   },
   "outputs": [],
   "source": [
    "%%time\n",
    "threads = []\n",
    "n = 2\n",
    "N = arr2.size//n\n",
    "for i in range(n):\n",
    "    threads.append(threading.Thread(target=do_something_in_numpy,\n",
    "                                    args=(arr2[i*N:(i+1)*N],)))\n",
    "    threads[-1].start()\n",
    "for thread in threads:\n",
    "    thread.join()"
   ]
  },
  {
   "cell_type": "code",
   "execution_count": null,
   "metadata": {},
   "outputs": [],
   "source": [
    "(arr1 == arr2).all()"
   ]
  },
  {
   "cell_type": "markdown",
   "metadata": {
    "slideshow": {
     "slide_type": "subslide"
    }
   },
   "source": [
    "Try Python version in serial"
   ]
  },
  {
   "cell_type": "code",
   "execution_count": null,
   "metadata": {},
   "outputs": [],
   "source": [
    "%%time\n",
    "for i in range(10):\n",
    "    do_something_in_python(i)"
   ]
  },
  {
   "cell_type": "code",
   "execution_count": null,
   "metadata": {
    "slideshow": {
     "slide_type": "subslide"
    }
   },
   "outputs": [],
   "source": [
    "%%time\n",
    "threads = []\n",
    "for i in range(10):\n",
    "    threads.append(threading.Thread(target=do_something_in_python, args=(i,)))\n",
    "    threads[-1].start()\n",
    "for thread in threads:\n",
    "    thread.join()"
   ]
  },
  {
   "cell_type": "markdown",
   "metadata": {
    "slideshow": {
     "slide_type": "subslide"
    }
   },
   "source": [
    "Example of the GIL (Global Interpreter Lock). \n",
    "\n",
    "For thread safety & to maximise serial speed, Python code usually runs one step in one thread at a time.\n",
    "\n",
    "So except for specific problems (eg. numpy, pandas, IO, GUIs) threads aren't the answer"
   ]
  },
  {
   "cell_type": "markdown",
   "metadata": {
    "slideshow": {
     "slide_type": "slide"
    }
   },
   "source": [
    "Enter `multiprocessing`."
   ]
  },
  {
   "cell_type": "code",
   "execution_count": null,
   "metadata": {},
   "outputs": [],
   "source": [
    "%%time\n",
    "processes = []\n",
    "for i in range(10):\n",
    "    processes.append(multiprocessing.Process(target=do_something_in_python, args=(i,)))\n",
    "    processes[-1].start()\n",
    "for process in processes:\n",
    "    process.join()"
   ]
  },
  {
   "cell_type": "markdown",
   "metadata": {
    "slideshow": {
     "slide_type": "subslide"
    }
   },
   "source": [
    "Comes with a few options to make life a bit simpler with common patterns."
   ]
  },
  {
   "cell_type": "code",
   "execution_count": null,
   "metadata": {},
   "outputs": [],
   "source": [
    "def fn(x):\n",
    "    return x**3\n",
    "\n",
    "a = range(100)\n",
    "\n",
    "pool = multiprocessing.Pool(processes=4)\n",
    "pool.map(fn, a)"
   ]
  },
  {
   "cell_type": "markdown",
   "metadata": {
    "slideshow": {
     "slide_type": "slide"
    }
   },
   "source": [
    "# Enter Dask\n",
    "\n",
    "- Dynamic task scheduler\n",
    "- Reduce boilerplate on single machine\n",
    "- Simplify running across multiple machines\n",
    "- Good links to Pandas"
   ]
  },
  {
   "cell_type": "markdown",
   "metadata": {
    "slideshow": {
     "slide_type": "subslide"
    }
   },
   "source": [
    "How to start scheduler (lots of keyword options available)"
   ]
  },
  {
   "cell_type": "code",
   "execution_count": null,
   "metadata": {},
   "outputs": [],
   "source": [
    "from dask.distributed import Client\n",
    "\n",
    "## n_workers could be the number of threads or processes\n",
    "client = Client(n_workers=4, processes=True)"
   ]
  },
  {
   "cell_type": "markdown",
   "metadata": {},
   "source": [
    "Now let's switch over to the Dask tutorial text."
   ]
  }
 ],
 "metadata": {
  "celltoolbar": "Slideshow",
  "jupyter": {
   "jupytext": {
    "text_representation": {
     "extension": ".md",
     "format_name": "myst",
     "format_version": "1.1",
     "jupytext_version": "1.1.0"
    }
   },
   "kernelspec": {
    "display_name": "Python 3",
    "language": "python",
    "name": "python3"
   }
  },
  "kernelspec": {
   "display_name": "Python 3",
   "language": "python",
   "name": "python3"
  },
  "language_info": {
   "codemirror_mode": {
    "name": "ipython",
    "version": 3
   },
   "file_extension": ".py",
   "mimetype": "text/x-python",
   "name": "python",
   "nbconvert_exporter": "python",
   "pygments_lexer": "ipython3",
   "version": "3.6.9"
  },
  "rise": {
   "autolaunch": true,
   "enable_chalkboard": true
  },
  "toc": {
   "base_numbering": 1,
   "nav_menu": {},
   "number_sections": false,
   "sideBar": true,
   "skip_h1_title": false,
   "title_cell": "Table of Contents",
   "title_sidebar": "Contents",
   "toc_cell": false,
   "toc_position": {},
   "toc_section_display": true,
   "toc_window_display": false
  }
 },
 "nbformat": 4,
 "nbformat_minor": 2
}
