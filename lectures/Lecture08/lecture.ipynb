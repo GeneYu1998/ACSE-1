{
 "cells": [
  {
   "cell_type": "markdown",
   "metadata": {},
   "source": [
    "# Pandas - https://pandas.pydata.org/\n",
    "\n",
    "From: https://en.wikipedia.org/wiki/Pandas_%28software%29\n",
    "\n",
    "Pandas is a software library written for the Python programming language for data manipulation and analysis. In particular, it offers data structures and operations for manipulating numerical tables and time series. It is free software released under the three-clause BSD license. The name is derived from the term \"panel data\", an econometrics term for data sets that include observations over multiple time periods for the same individuals.\n",
    "\n",
    "Pandas is mainly used for Machine Learning in form of dataframes. Pandas allow importing data of various file formats such as csv, excel etc. Pandas allows various data manipulation operations such as groupby, join, merge, melt, concatenation as well as data cleaning features such as filling, replacing or imputing null values.\n",
    "\n",
    "Key features:\n",
    "* DataFrame object for data manipulation with integrated indexing.\n",
    "* Tools for reading and writing data between in-memory data structures and different file formats.\n",
    "* Data alignment and integrated handling of missing data.\n",
    "* Reshaping and pivoting of data sets.\n",
    "* Label-based slicing, fancy indexing, and subsetting of large data sets.\n",
    "* Data structure column insertion and deletion.\n",
    "* Group by engine allowing split-apply-combine operations on data sets.\n",
    "* Data set merging and joining.\n",
    "* Hierarchical axis indexing to work with high-dimensional data in a lower-dimensional data structure.\n",
    "* Time series-functionality: Date range generation[4] and frequency conversion, moving window statistics, moving window linear regressions, date shifting and lagging.\n",
    "* Provides data filtration.\n",
    "\n",
    "The library is highly optimized for performance, with critical code paths written in Cython or C.\n",
    "\n",
    "**Bottom line - if you are doing anything related to with spreadsheets you should be using Pandas.**\n",
    "\n",
    "## Pandas tutorial\n",
    "\n",
    "If you are interested in data science and machine learning then you need to know about Kaggle. You will use it a few times throughout the year.\n",
    "\n",
    "https://youtu.be/TNzDMOg_zsw\n",
    "\n",
    "Because pandas is such a big deal in data science and machine learning Kaggle are put together a great tutorial on how to use it. That is what we are going to focus on today:"
   ]
  },
  {
   "cell_type": "markdown",
   "metadata": {},
   "source": [
    "https://www.kaggle.com/learn/pandas\n",
    "\n",
    "Today's lecture will be presented by Ruari Dunne from BP.\n",
    "\n",
    "Ruairi Dunne is a Data Science graduate at bp with an educational background at Imperial College specialising in Geology (BSc) and Petroleum Geoscience (MSc). With over 2 years’ experience at bp, Ruairi has led Time Series, Natural Language Processing (NLP) and Computer Vision projects, applying data science to tackle industry problems. The multi-disciplinary nature of data science, capability development, and leveraging machine and deep learning for traditional geoscience and engineering workflows, is what Ruairi is most passionate about and his favourite libraries are Pytorch-Lightning and SHAP. \n",
    "\n"
   ]
  }
 ],
 "metadata": {
  "jupytext": {
   "cell_metadata_filter": "-all",
   "main_language": "python",
   "notebook_metadata_filter": "-all"
  }
 },
 "nbformat": 4,
 "nbformat_minor": 2
}
