{
 "cells": [
  {
   "cell_type": "markdown",
   "metadata": {
    "slideshow": {
     "slide_type": "slide"
    }
   },
   "source": [
    "## Week Two\n",
    " \n",
    " | Monday    | Tuesday    | Wednesday          | Thursday         | Friday                      |\n",
    " |-----------|------------|--------------------|------------------|-----------------------------|\n",
    " |Azure I | Azure II | Continuous Integration       | Pandas |                             |\n",
    " |James      | James     | Rhodri             | Ruairi Dunne (BP)  |                  |\n",
    " |           |            || Assesment released | **4pm Assessment Deadline** |"
   ]
  },
  {
   "cell_type": "markdown",
   "metadata": {
    "slideshow": {
     "slide_type": "slide"
    }
   },
   "source": [
    "# The Cloud & Microsoft Azure, Part I\n",
    "\n",
    "### ACSE 1 Lecture Five\n",
    "### 19th October 2020 \n",
    "### Version 1.0.5"
   ]
  },
  {
   "cell_type": "markdown",
   "metadata": {
    "slideshow": {
     "slide_type": "slide"
    }
   },
   "source": [
    "### Contact Details\n",
    "\n",
    " - Dr. James Percival\n",
    " - email: j.percival@imperial.ac.uk\n",
    " - Teams: <code>@Percival, James R</code> in <code>#ACSE1</code> or <code>#General</code>, or DM me."
   ]
  },
  {
   "cell_type": "markdown",
   "metadata": {
    "slideshow": {
     "slide_type": "slide"
    }
   },
   "source": [
    "### Learning Objectives\n",
    "\n",
    "### By the end of this lecture you should:\n",
    " - Understand public and private cloud and why people use them.\n",
    " - Understand the different levels of cloud service.\n",
    " - Be able to describe virtualization and containers.\n",
    " - Know how to create & connect to a VM on Azure.\n",
    " - Understand the basics of Docker & why people use it."
   ]
  },
  {
   "cell_type": "markdown",
   "metadata": {
    "slideshow": {
     "slide_type": "slide"
    }
   },
   "source": [
    " ## Introducing the Cloud\n",
    "\n",
    "### What is the cloud?\n",
    " \n",
    " Wikipedia:\n",
    "\n",
    " > Cloud computing is the on-demand availability of computer system resources, especially data storage (cloud storage) and computing power, without direct active management by the user. The term is generally used to describe data centers available to many users over the Internet. Large clouds, predominant today, often have functions distributed over multiple locations from central servers. If the connection to the user is relatively close, it may be designated an edge server."
   ]
  },
  {
   "cell_type": "markdown",
   "metadata": {
    "slideshow": {
     "slide_type": "subslide"
    }
   },
   "source": [
    " Microsoft:\n",
    "\n",
    " > Simply put, cloud computing is the delivery of computing services – including servers, storage, databases, networking, software, analytics and intelligence – over the Internet (“the cloud”) to offer faster innovation, flexible resources and economies of scale. Typically, you only pay for cloud services you use, helping you lower your operating costs, run your infrastructure more efficiently and scale as your business needs change."
   ]
  },
  {
   "cell_type": "markdown",
   "metadata": {
    "slideshow": {
     "slide_type": "subslide"
    }
   },
   "source": [
    "  - computer\n",
    "  - network\n",
    "  - Internet"
   ]
  },
  {
   "cell_type": "markdown",
   "metadata": {
    "slideshow": {
     "slide_type": "slide"
    }
   },
   "source": [
    "   #### Public Cloud\n",
    "\n",
    "Public Cloud, _services_ are bought on a need basis, with infrastructure shared with other users.\n",
    "\n",
    "Multiple cloud providers:\n",
    "\n",
    "    - Microsoft Azure\n",
    "    - Amazon AWS\n",
    "    - Google Cloud Services\n",
    "    - Alibaba Cloud"
   ]
  },
  {
   "cell_type": "markdown",
   "metadata": {
    "slideshow": {
     "slide_type": "slide"
    }
   },
   "source": [
    " #### Private Cloud\n",
    "\n",
    " - Full _infrastructure_ purchased, and run by company/organization in question\n",
    " - Accessed over a network (private or internet)\n",
    " - Full control over hardware, policy & configuration.\n",
    " - Expensive for small institutions\n",
    "\n",
    "Example is the college [HPC clusters](https://www.imperial.ac.uk/admin-services/ict/self-service/research-support/rcs/support/getting-started/) based in Slough."
   ]
  },
  {
   "cell_type": "markdown",
   "metadata": {
    "slideshow": {
     "slide_type": "slide"
    }
   },
   "source": [
    " #### Hybrid Cloud\n",
    "\n",
    " - Company maintains its own private data centre\n",
    " - Also buys additional services from cloud providers\n",
    " - Example: Imperial College"
   ]
  },
  {
   "cell_type": "markdown",
   "metadata": {
    "slideshow": {
     "slide_type": "subslide"
    }
   },
   "source": [
    "  Plus points:\n",
    "  - can retain control over data inside own data centre\n",
    "  - extensibility & outsourcing of other services to cloud provider\n",
    "  Negative points:\n",
    "  - risk of duplication\n",
    "  - can complicate organizational structure"
   ]
  },
  {
   "cell_type": "markdown",
   "metadata": {
    "slideshow": {
     "slide_type": "slide"
    }
   },
   "source": [
    "  #### Why use the cloud?\n",
    "\n",
    "- Availability - systems online & supported 24/7 \n",
    "- Scalability - Increasing/decreasing your allocation  instantly \n",
    "- Reach - accessible from most of the world\n",
    "- Agility - rapidly develop, test & deploy software"
   ]
  },
  {
   "cell_type": "markdown",
   "metadata": {
    "slideshow": {
     "slide_type": "subslide"
    }
   },
   "source": [
    "- Disaster Mitigation - backups/rollbacks, This doesn't prevent users needing to check what's backed up is what was intended.\n",
    "- Fault Tolerance - fallback to alternatives in case of physical failures.\n",
    "- Elasticity - Systems can react dynamically to increasing or decreasing demand."
   ]
  },
  {
   "cell_type": "markdown",
   "metadata": {
    "slideshow": {
     "slide_type": "slide"
    }
   },
   "source": [
    "#### Why not to use the cloud?\n",
    "\n",
    "- Latancy issues - Keep large data transfer local.\n",
    "- Costs (Data transfer, machine hire, etc.)\n",
    "- Security - handing data to someone else.\n",
    "- Control - personal oversight.\n",
    "- Intellectual property concerns - some data may have legal or contractual constraints."
   ]
  },
  {
   "cell_type": "markdown",
   "metadata": {
    "slideshow": {
     "slide_type": "slide"
    }
   },
   "source": [
    "Can purchase different levels of service:\n",
    "\n",
    "- Infrastructure as a service (IaaS)\n",
    "- Platform as a Service (PaaS)\n",
    "- Software as a Service (SaaS)\n",
    "\n",
    "Here \"as a service\"  == \"for hire\""
   ]
  },
  {
   "cell_type": "markdown",
   "metadata": {
    "slideshow": {
     "slide_type": "slide"
    }
   },
   "source": [
    "#### Infrastructure as a Service\n",
    "\n",
    "- Rent a (virtual) machine in a data centre.\n",
    "- Have full control over configuration & setup.\n",
    "- Have full responsibility for updates & upgrades."
   ]
  },
  {
   "cell_type": "markdown",
   "metadata": {
    "slideshow": {
     "slide_type": "slide"
    }
   },
   "source": [
    "#### Platform as a Service\n",
    "\n",
    "- Let service provider take care of back ends and operating systems\n",
    "- Concentrate on code to solve your application/problem\n",
    "- For python examples include Jupyterhub services such as Kaggle, Google Co-lab and `mybinder.org`\n",
    "- Many systems use docker containers to maximise number of users on one system."
   ]
  },
  {
   "cell_type": "markdown",
   "metadata": {
    "slideshow": {
     "slide_type": "slide"
    }
   },
   "source": [
    "#### Software as a Service\n",
    "\n",
    "- Let the cloud provider generate the full stack & concentrate on data\n",
    "- Example Office 365 and web versions on Word, Excel & Outlook\n",
    "- Also many, many machine learning products."
   ]
  },
  {
   "cell_type": "markdown",
   "metadata": {
    "slideshow": {
     "slide_type": "slide"
    }
   },
   "source": [
    "#### Pizza as a service\n",
    "\n",
    "Who is in charge of providing the following:\n",
    "\n",
    "||Local on premises (homemade)|IaaS (store bought)|PaaS (takeaway)|SaaS (restaurant)|\n",
    "|-|:---:|:--:|:--:|:--:|\n",
    "|Plates|You|You|You|Them|\n",
    "|Glasses|You|You|You|Them|\n",
    "|Oven|You|You|Them|Them|\n",
    "|Power|You|You|Them|Them|\n",
    "|Dough|You|Them|Them|Them|\n",
    "|Cheese|You|Them|Them|Them|\n",
    "|Toppings|You|Them|Them|Them|"
   ]
  },
  {
   "cell_type": "markdown",
   "metadata": {
    "slideshow": {
     "slide_type": "slide"
    }
   },
   "source": [
    "#### In cloud computing\n",
    "\n",
    "||Local on premises |IaaS |PaaS |SaaS |\n",
    "|-|:---:|:--:|:--:|:--:|\n",
    "|Applications|You|You|You|Them|\n",
    "|Backend data|You|You|You|Them|\n",
    "|Runtime libraries|You|Them|Them|Them|\n",
    "|Operating system|You|You|Them|Them|\n",
    "|Computers|You|Them|Them|Them|\n",
    "|Network|You|Them|Them|Them|"
   ]
  },
  {
   "cell_type": "markdown",
   "metadata": {
    "slideshow": {
     "slide_type": "slide"
    }
   },
   "source": [
    "#### Accessing Azure Cloud Services\n",
    "\n",
    "The Azure portal at \n",
    "\n",
    "https://portal.azure.com\n",
    "\n",
    "can connect with college credentials. Let's have a look."
   ]
  },
  {
   "cell_type": "markdown",
   "metadata": {
    "slideshow": {
     "slide_type": "slide"
    }
   },
   "source": [
    "#### Virtualization & Containerization: Compatibility layers\n",
    "\n",
    "- Add an extra layer of software to communicate between native application & host system\n",
    "- Low overhead\n",
    "- Examples: WSL1, WINE, various Apple Mac frameworks"
   ]
  },
  {
   "cell_type": "markdown",
   "metadata": {
    "slideshow": {
     "slide_type": "slide"
    }
   },
   "source": [
    "#### Emulation\n",
    "\n",
    "- Pretending to be old hardware\n",
    "- Usually significantly more expensive\n",
    "- Not always perfect"
   ]
  },
  {
   "cell_type": "markdown",
   "metadata": {
    "slideshow": {
     "slide_type": "slide"
    }
   },
   "source": [
    "#### Virtualization\n",
    "\n",
    "- Pretend to be the hardware you are.\n",
    "- Much cheaper (though not free).\n",
    "- Modern OSes + hardware often let some of it happen for free"
   ]
  },
  {
   "cell_type": "markdown",
   "metadata": {
    "slideshow": {
     "slide_type": "subslide"
    }
   },
   "source": [
    "- Very common in public cloud data centres\n",
    "    - Server machines have many more processor cores than people typically want\n",
    "    - Virtual machines -slice them up into parts which are easier to sell\n",
    "    - OS/network makes it transparent to the user\n",
    "- Less common in HPC where parallelism is desirable\n",
    "- Imperial's private data offers service."
   ]
  },
  {
   "cell_type": "markdown",
   "metadata": {
    "slideshow": {
     "slide_type": "subslide"
    }
   },
   "source": [
    "#### Buying time on an Azure Virtual Machine\n",
    "\n",
    "Back to the portal"
   ]
  },
  {
   "cell_type": "markdown",
   "metadata": {
    "slideshow": {
     "slide_type": "slide"
    }
   },
   "source": [
    "#### Containers\n",
    "\n",
    "Containers:\n",
    "- Rather than install multiple kernels on top of each other, install multiple user spaces on one kernel\n",
    "- Lower overhead, so can have more copies at once.\n",
    "- Scriptable, repeatable, reproducible."
   ]
  },
  {
   "cell_type": "markdown",
   "metadata": {
    "slideshow": {
     "slide_type": "slide"
    }
   },
   "source": [
    "Docker is most commonly used implementation\n",
    "- offers both Windows and linux kernels\n",
    "- Freeze a system into an \"image\".\n",
    "- Copy and thaw into a container.\n",
    "- Scripts are called Dockerfiles."
   ]
  },
  {
   "cell_type": "markdown",
   "metadata": {
    "slideshow": {
     "slide_type": "slide"
    }
   },
   "source": [
    "##### Why use Docker?\n",
    "\n",
    "- What we've shown here could be done with  `venv` or `conda`\n",
    "- Docker controls the entire software stack:\n",
    "   - linux distribution\n",
    "   - package versions (including non-Python)\n",
    "   - Run any default command."
   ]
  },
  {
   "cell_type": "markdown",
   "metadata": {
    "slideshow": {
     "slide_type": "slide"
    }
   },
   "source": [
    "- Docker images can be distirbuted or uploaded to repositories such as Dockerhub.\n",
    "- Ideal for distributing reproducible \"app\" style versions of software (virtually) guaranteed to work. \n",
    "- Good for cloud. The Dockerfile eor can be transferred to remote system, with known final result."
   ]
  },
  {
   "cell_type": "markdown",
   "metadata": {
    "slideshow": {
     "slide_type": "slide"
    }
   },
   "source": [
    "### Example2 : Running a container on Azure\n",
    "\n",
    "Back to the portal."
   ]
  },
  {
   "cell_type": "markdown",
   "metadata": {
    "slideshow": {
     "slide_type": "slide"
    }
   },
   "source": [
    "#### Summary\n",
    "\n",
    "You should now:\n",
    "\n",
    "- Understand public and private cloud and why people use them.\n",
    "- Understand the different levels of cloud services, and the differences between them.\n",
    "- Be able to describe the basics of virtualization and containers.\n",
    "- Know how to create & connect to a VM on Azure.\n",
    "- Understand the basics of Docker & why people use it, as well as how to use it yourself."
   ]
  }
 ],
 "metadata": {
  "jupyter": {
   "jupytext": {
    "text_representation": {
     "extension": ".md",
     "format_name": "myst",
     "format_version": "1.1",
     "jupytext_version": "1.1.0"
    }
   },
   "kernelspec": {
    "display_name": "Python 3",
    "language": "python",
    "name": "python3"
   }
  },
  "kernelspec": {
   "display_name": "Python 3",
   "language": "python",
   "name": "python3"
  },
  "language_info": {
   "codemirror_mode": {
    "name": "ipython",
    "version": 3
   },
   "file_extension": ".py",
   "mimetype": "text/x-python",
   "name": "python",
   "nbconvert_exporter": "python",
   "pygments_lexer": "ipython3",
   "version": "3.7.6"
  },
  "rise": {
   "autolaunch": true,
   "enable_chalkboard": true
  }
 },
 "nbformat": 4,
 "nbformat_minor": 2
}
